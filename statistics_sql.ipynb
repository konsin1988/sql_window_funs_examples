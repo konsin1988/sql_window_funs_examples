{
 "cells": [
  {
   "cell_type": "code",
   "execution_count": 1,
   "id": "a38d82f2-a31a-436a-b01d-95894f2a0f9a",
   "metadata": {},
   "outputs": [],
   "source": [
    "import sqlite3"
   ]
  },
  {
   "cell_type": "code",
   "execution_count": 46,
   "id": "2c73f7cd-c71f-4534-8004-e68eeede144e",
   "metadata": {},
   "outputs": [
    {
     "data": {
      "text/plain": [
       "[(11, 'Дарья', 70, '10%'),\n",
       " (12, 'Борис', 78, '20%'),\n",
       " (21, 'Елена', 84, '30%'),\n",
       " (22, 'Ксения', 90, '40%'),\n",
       " (31, 'Вероника', 96, '60%'),\n",
       " (32, 'Григорий', 96, '60%'),\n",
       " (33, 'Анна', 100, '70%'),\n",
       " (23, 'Леонид', 104, '90%'),\n",
       " (24, 'Марина', 104, '90%'),\n",
       " (25, 'Иван', 120, '100%')]"
      ]
     },
     "execution_count": 46,
     "metadata": {},
     "output_type": "execute_result"
    }
   ],
   "source": [
    "# какой процент людей получает столько же или меньше:\n",
    "\n",
    "connection = sqlite3.connect('window.db')\n",
    "cursor = connection.cursor()\n",
    "cursor.execute('''\n",
    "    SELECT id, name, salary,  \n",
    "        CONCAT(PRINTF('%g', ROUND(CUME_DIST() OVER w * 100)), '%') AS perc\n",
    "    FROM employees\n",
    "    WINDOW w AS (\n",
    "            ORDER BY salary\n",
    "    )\n",
    "    ORDER BY salary, id\n",
    "''')\n",
    "cursor.fetchall()"
   ]
  },
  {
   "cell_type": "code",
   "execution_count": 45,
   "id": "982da7d8-27f1-40b3-96af-50aa9e65c329",
   "metadata": {},
   "outputs": [
    {
     "data": {
      "text/plain": [
       "[('Дарья', 70, 0.1, 0.0),\n",
       " ('Борис', 78, 0.2, 0.11),\n",
       " ('Елена', 84, 0.3, 0.22),\n",
       " ('Ксения', 90, 0.4, 0.33),\n",
       " ('Вероника', 96, 0.6, 0.44),\n",
       " ('Григорий', 96, 0.6, 0.44),\n",
       " ('Анна', 100, 0.7, 0.67),\n",
       " ('Леонид', 104, 0.9, 0.78),\n",
       " ('Марина', 104, 0.9, 0.78),\n",
       " ('Иван', 120, 1.0, 1.0)]"
      ]
     },
     "execution_count": 45,
     "metadata": {},
     "output_type": "execute_result"
    }
   ],
   "source": [
    "# Относительный ранг, какой процент людей получает строго меньше, чем конкретный сотрудник\n",
    "connection = sqlite3.connect('window.db')\n",
    "cursor = connection.cursor()\n",
    "cursor.execute('''\n",
    "    SELECT \n",
    "    name, salary,\n",
    "    CUME_DIST() OVER w AS cd,\n",
    "    ROUND(PERCENT_RANK() OVER w, 2) AS pr\n",
    "    FROM employees\n",
    "    WINDOW w AS (ORDER BY salary)\n",
    "    ORDER BY salary, id;\n",
    "''')\n",
    "cursor.fetchall()"
   ]
  },
  {
   "cell_type": "code",
   "execution_count": 38,
   "id": "1df2ffaa-9761-4d76-bf90-442c7f3abff3",
   "metadata": {},
   "outputs": [
    {
     "data": {
      "text/plain": [
       "[('2020-03-18', 12.5, 1.0, 1.0),\n",
       " ('2020-03-08', 11.9, 0.97, 0.97),\n",
       " ('2020-03-11', 11.7, 0.94, 0.93),\n",
       " ('2020-03-15', 10.9, 0.9, 0.9),\n",
       " ('2020-03-14', 10.1, 0.87, 0.87)]"
      ]
     },
     "execution_count": 38,
     "metadata": {},
     "output_type": "execute_result"
    }
   ],
   "source": [
    "#  Жаркий март \n",
    "connection = sqlite3.connect('weather.db')\n",
    "cursor = connection.cursor()\n",
    "\n",
    "cursor.execute('''\n",
    "    WITH match_temp AS (\n",
    "        SELECT wdate, wtemp FROM weather\n",
    "        WHERE wdate BETWEEN '2020-03-01' AND '2020-03-31'\n",
    "    )\n",
    "    SELECT wdate, wtemp,\n",
    "        ROUND(CUME_DIST() OVER w, 2) AS cd, \n",
    "        ROUND(PERCENT_RANK() OVER w, 2) AS pr\n",
    "    FROM match_temp\n",
    "    WINDOW w AS (ORDER BY wtemp)\n",
    "    ORDER BY wtemp DESC\n",
    "    LIMIT 5\n",
    "''')\n",
    "cursor.fetchall()\n"
   ]
  },
  {
   "cell_type": "code",
   "execution_count": 47,
   "id": "34227516-ad09-4074-ba7a-7408e00eae5b",
   "metadata": {},
   "outputs": [
    {
     "data": {
      "text/plain": [
       "[('2020-03-01', 7.6, 0.52),\n",
       " ('2020-03-02', 7.0, 0.32),\n",
       " ('2020-03-03', 6.0, 0.16),\n",
       " ('2020-03-04', 4.2, 0.06),\n",
       " ('2020-03-05', 5.7, 0.1)]"
      ]
     },
     "execution_count": 47,
     "metadata": {},
     "output_type": "execute_result"
    }
   ],
   "source": [
    "# Начало весны\n",
    "# Для каждого из дней с 1 по 5 марта определить, \n",
    "# какой процент дней в марте имеют такую же или меньшую температуру:\n",
    "\n",
    "connection = sqlite3.connect('weather.db')\n",
    "cursor = connection.cursor()\n",
    "\n",
    "cursor.execute('''\n",
    "    WITH res_t AS (\n",
    "        SELECT wdate, wtemp, \n",
    "            ROUND(CUME_DIST() OVER w,2) AS perc\n",
    "        FROM weather\n",
    "        WHERE wdate BETWEEN '2020-03-01' AND '2020-03-31'\n",
    "        WINDOW w AS (ORDER BY wtemp)\n",
    "        ORDER BY wdate\n",
    "    )\n",
    "    SELECT wdate, wtemp, perc\n",
    "    FROM res_t\n",
    "    WHERE wdate BETWEEN '2020-03-01' AND '2020-03-05'\n",
    "    ORDER BY wdate\n",
    "''')\n",
    "cursor.fetchall()"
   ]
  },
  {
   "cell_type": "code",
   "execution_count": 60,
   "id": "f1c90930-a0b4-42b1-be6a-bdc2b782a729",
   "metadata": {},
   "outputs": [
    {
     "data": {
      "text/plain": [
       "[('2020-01-07', 8.1, 0.61),\n",
       " ('2020-02-07', 5.0, 0.1),\n",
       " ('2020-03-07', 7.5, 0.48),\n",
       " ('2020-04-07', 12.3, 0.53),\n",
       " ('2020-05-07', 14.5, 0.45),\n",
       " ('2020-06-07', 13.4, 0.1)]"
      ]
     },
     "execution_count": 60,
     "metadata": {},
     "output_type": "execute_result"
    }
   ],
   "source": [
    "# Счастливые дни\n",
    "# Для седьмого числа каждого месяца (7 января, 7 февраля, 7 марта ...) определить, \n",
    "# какой процент дней в соответствующем месяце имеют такую же или меньшую температуру:\n",
    "\n",
    "connection = sqlite3.connect('weather.db')\n",
    "cursor = connection.cursor()\n",
    "\n",
    "cursor.execute('''\n",
    "    WITH res_q AS (\n",
    "        SELECT wdate, wtemp, \n",
    "        ROUND(CUME_DIST() OVER w, 2) AS perc\n",
    "        FROM weather\n",
    "        WINDOW w AS (PARTITION BY strftime('%m', wdate) ORDER BY wtemp)\n",
    "        ORDER BY strftime('%m', wdate), wtemp\n",
    "    )\n",
    "    SELECT wdate, wtemp, perc\n",
    "    FROM res_q\n",
    "    WHERE strftime('%d', wdate) = '07'\n",
    "    ORDER BY wdate\n",
    "''')\n",
    "cursor.fetchall()"
   ]
  },
  {
   "cell_type": "code",
   "execution_count": 71,
   "id": "f362b85c-754c-41b3-b600-39ef3f679d2c",
   "metadata": {},
   "outputs": [
    {
     "data": {
      "text/plain": [
       "[(1, 84), (2, 96), (3, 104), (4, 120)]"
      ]
     },
     "execution_count": 71,
     "metadata": {},
     "output_type": "execute_result"
    }
   ],
   "source": [
    "#     percentile_disc рассматривает набор данных как дискретный (то есть состоящий из отдельных значений). \n",
    "# Всегда возвращает конкретное значение из тех, что есть в таблице.\n",
    "#     percentile_cont рассматривает набор данных как непрерывный \n",
    "# (как будто значения в наборе — это выборка из некоторого непрерывного распределения данных). \n",
    "# Рассчитывает процентиль аналитически по формуле.\n",
    "\n",
    "connection = sqlite3.connect('window.db')\n",
    "cursor = connection.cursor()\n",
    "cursor.execute('''\n",
    "    WITH p AS (SELECT salary, NTILE(4) OVER (ORDER BY salary) AS percentile\n",
    "           FROM employees)\n",
    "SELECT percentile, MAX(salary) as salary\n",
    "FROM p\n",
    "GROUP BY percentile;\n",
    "''')\n",
    "cursor.fetchall()\n"
   ]
  },
  {
   "cell_type": "code",
   "execution_count": 10,
   "id": "81b5440c-af37-438d-8d7e-03a7f8ea85da",
   "metadata": {},
   "outputs": [
    {
     "data": {
      "text/plain": [
       "[('01', 5, 7.55, 7.8),\n",
       " ('01', 9, 7.55, 10.6),\n",
       " ('02', 5, 8.24, 7.9),\n",
       " ('02', 9, 8.24, 11.7),\n",
       " ('03', 5, 7.97, 7.6),\n",
       " ('03', 9, 7.97, 10.9),\n",
       " ('04', 5, 12.35, 12.1),\n",
       " ('04', 9, 12.35, 15.9),\n",
       " ('05', 5, 15.26, 15.6),\n",
       " ('05', 9, 15.26, 20.0),\n",
       " ('06', 5, 17.72, 17.2),\n",
       " ('06', 9, 17.72, 20.2)]"
      ]
     },
     "execution_count": 10,
     "metadata": {},
     "output_type": "execute_result"
    }
   ],
   "source": [
    "# Медиана температуры\n",
    "connection = sqlite3.connect('weather.db')\n",
    "cursor = connection.cursor()\n",
    "\n",
    "cursor.execute('''\n",
    "    WITH q_avg AS (SELECT wdate, wtemp, \n",
    "        ROUND(AVG(wtemp) OVER w, 2) AS avg_temp\n",
    "    FROM weather \n",
    "    WINDOW w AS (PARTITION BY strftime('%m', wdate))\n",
    "    ), q_proc AS (SELECT wdate, wtemp, \n",
    "         ntile(10) OVER w AS gr_proc\n",
    "     FROM weather\n",
    "     WINDOW w AS (PARTITION BY strftime('%m', wdate) ORDER BY wtemp)\n",
    "     ), q_res AS (\n",
    "    SELECT strftime('%m', q_proc.wdate) AS month, gr_proc,\n",
    "        avg_temp,\n",
    "        LAST_VALUE(q_proc.wtemp) OVER w AS proc\n",
    "    FROM q_avg JOIN q_proc ON q_avg.wdate = q_proc.wdate AND q_avg.wtemp = q_proc.wtemp\n",
    "    WINDOW w AS (PARTITION BY strftime('%m', q_proc.wdate), gr_proc \n",
    "                ORDER BY q_proc.wtemp\n",
    "                ROWS BETWEEN unbounded preceding AND unbounded following\n",
    "                )\n",
    "    )\n",
    "    SELECT month, gr_proc, avg_temp, proc\n",
    "    FROM q_res\n",
    "    GROUP BY month, gr_proc, avg_temp, proc\n",
    "    HAVING gr_proc IN (5, 9)\n",
    "''')\n",
    "cursor.fetchall()\n",
    "# WITH q_avg AS (SELECT wdate, wtemp, \n",
    "#         ROUND(AVG(wtemp) OVER w, 2) AS avg_temp\n",
    "#     FROM weather \n",
    "#     WINDOW w AS (PARTITION BY strftime('%m', wdate))\n",
    "#     ), q_proc AS (SELECT wdate, wtemp, \n",
    "#          ntile(10) OVER w AS gr_proc\n",
    "#      FROM weather\n",
    "#      WINDOW w AS (PARTITION BY strftime('%m', wdate) ORDER BY wtemp)\n",
    "#      ), q_res AS (\n",
    "#     SELECT strftime('%m', q_proc.wdate) AS month, gr_proc,\n",
    "#         avg_temp, MAX(q_proc.wtemp) AS proc\n",
    "#     FROM q_avg JOIN q_proc ON q_avg.wdate = q_proc.wdate AND q_avg.wtemp = q_proc.wtemp\n",
    "#     GROUP BY strftime('%m', q_proc.wdate), gr_proc, avg_temp\n",
    "#     ) \n",
    "#     SELECT month, gr_proc, avg_temp, proc\n",
    "#     FROM q_res\n",
    "#     WHERE gr_proc IN (5, 9)"
   ]
  },
  {
   "cell_type": "code",
   "execution_count": null,
   "id": "92b7c5f1-7a17-40de-95c1-51cc1a3e6fa7",
   "metadata": {},
   "outputs": [],
   "source": []
  }
 ],
 "metadata": {
  "kernelspec": {
   "display_name": "Python 3 (ipykernel)",
   "language": "python",
   "name": "python3"
  },
  "language_info": {
   "codemirror_mode": {
    "name": "ipython",
    "version": 3
   },
   "file_extension": ".py",
   "mimetype": "text/x-python",
   "name": "python",
   "nbconvert_exporter": "python",
   "pygments_lexer": "ipython3",
   "version": "3.12.3"
  }
 },
 "nbformat": 4,
 "nbformat_minor": 5
}
