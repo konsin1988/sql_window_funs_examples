{
 "cells": [
  {
   "cell_type": "code",
   "execution_count": 3,
   "id": "bb1a84a7-7335-4e66-879c-3b4d7b7577d8",
   "metadata": {},
   "outputs": [],
   "source": [
    "import sqlite3"
   ]
  },
  {
   "cell_type": "code",
   "execution_count": 2,
   "id": "81fd607b-b936-4d32-9844-50f21ff7ba4d",
   "metadata": {},
   "outputs": [],
   "source": [
    "# Начало фрейма (frame_start) может быть:\n",
    "#     current row — начиная с текущей строки;\n",
    "#     N preceding — начиная с N-й строки перед текущей;\n",
    "#     N following — начиная с N-й строки после текущей;\n",
    "#     unbounded preceding — начиная с границы секции.\n",
    "\n",
    "# Аналогично, конец фрейма (frame_end) может быть:\n",
    "#     current row — до текущей строки;\n",
    "#     N preceding — до N-й строки перед текущей;\n",
    "#     N following — до N-й строки после текущей;\n",
    "#     unbounded following — до границы секции."
   ]
  },
  {
   "cell_type": "code",
   "execution_count": 4,
   "id": "8b18514e-e517-4c35-8ca3-64899c56a9f5",
   "metadata": {},
   "outputs": [],
   "source": [
    "connection = sqlite3.connect('window.db')\n",
    "cursor = connection.cursor()"
   ]
  },
  {
   "cell_type": "code",
   "execution_count": 9,
   "id": "5af02245-f32e-41e7-b6c5-94e1b664ee7e",
   "metadata": {},
   "outputs": [
    {
     "name": "stdout",
     "output_type": "stream",
     "text": [
      "(11, 'Дарья', 'hr', 70, 70, 78)\n",
      "(12, 'Борис', 'hr', 78, 70, 78)\n",
      "(21, 'Елена', 'it', 84, 84, 120)\n",
      "(22, 'Ксения', 'it', 90, 84, 120)\n",
      "(23, 'Леонид', 'it', 104, 90, 120)\n",
      "(24, 'Марина', 'it', 104, 104, 120)\n",
      "(25, 'Иван', 'it', 120, 104, 120)\n",
      "(31, 'Вероника', 'sales', 96, 96, 100)\n",
      "(32, 'Григорий', 'sales', 96, 96, 100)\n",
      "(33, 'Анна', 'sales', 100, 96, 100)\n"
     ]
    }
   ],
   "source": [
    "# Есть таблица сотрудников employees. Напишите запрос, который для каждого сотрудника выведет:\n",
    "\n",
    "#     размер з/п предыдущего по зарплате сотрудника (среди коллег по департаменту);\n",
    "#     максимальную з/п по департаменту.\n",
    "\n",
    "# Если «предыдущего коллеги» нет (у сотрудника самая низкая зарплата в департаменте) — \n",
    "# запрос должен возвращать зарплату самого сотрудника.\n",
    "# Не используйте функции lag() и lead().\n",
    "\n",
    "cursor.execute('''\n",
    "    SELECT id, name, department, salary, \n",
    "    FIRST_VALUE(salary) OVER w AS prev_salary,\n",
    "    LAST_VALUE(salary) OVER w AS max_salary\n",
    "    FROM employees\n",
    "    WINDOW w AS (PARTITION BY department \n",
    "                ORDER BY salary, id\n",
    "                ROWS BETWEEN 1 preceding AND unbounded following)\n",
    "    ORDER BY department, salary, id\n",
    "''')\n",
    "print(*cursor.fetchall(), sep='\\n')"
   ]
  },
  {
   "cell_type": "code",
   "execution_count": null,
   "id": "1829c05f-21b8-4c16-a897-dc61d387e03a",
   "metadata": {},
   "outputs": [],
   "source": [
    "# ROWS BETWEEN frame_start AND frame_end\n",
    "# GROUPS BETWEEN frame_start AND frame_end   - фреймы по группам\n",
    "# RANGE BETWEEN frame_start AND frame_end    - фреймы по диапазону"
   ]
  },
  {
   "cell_type": "code",
   "execution_count": null,
   "id": "1592d7af-84a4-4911-bbd4-ee3b874f5589",
   "metadata": {},
   "outputs": [],
   "source": [
    "# Есть таблица сотрудников employees. \n",
    "# Для каждого человека мы хотим посчитать количество сотрудников, \n",
    "# которые получают такую же или большую зарплату (ge_cnt)"
   ]
  },
  {
   "cell_type": "code",
   "execution_count": 20,
   "id": "e8773cf9-b333-4682-a74c-fd1a78465e96",
   "metadata": {},
   "outputs": [
    {
     "name": "stdout",
     "output_type": "stream",
     "text": [
      "(11, 'Дарья', 70, 10)\n",
      "(12, 'Борис', 78, 9)\n",
      "(21, 'Елена', 84, 8)\n",
      "(22, 'Ксения', 90, 7)\n",
      "(31, 'Вероника', 96, 6)\n",
      "(32, 'Григорий', 96, 6)\n",
      "(33, 'Анна', 100, 4)\n",
      "(23, 'Леонид', 104, 3)\n",
      "(24, 'Марина', 104, 3)\n",
      "(25, 'Иван', 120, 1)\n"
     ]
    }
   ],
   "source": [
    "cursor.execute('''\n",
    "    SELECT id, name, salary,\n",
    "    COUNT(*) OVER w AS ge_cnt\n",
    "    FROM employees\n",
    "    WINDOW w AS (ORDER BY salary\n",
    "                GROUPS BETWEEN current row AND unbounded following)\n",
    "    ORDER BY salary, id\n",
    "''')\n",
    "print(*cursor.fetchall(), sep='\\n')"
   ]
  },
  {
   "cell_type": "code",
   "execution_count": 1,
   "id": "3ce8ae7f-c38c-4a51-a513-ad21d28ae433",
   "metadata": {},
   "outputs": [],
   "source": [
    "# Есть таблица сотрудников employees. Для каждого человека мы хотим увидеть ближайшую большую зарплату "
   ]
  },
  {
   "cell_type": "code",
   "execution_count": 16,
   "id": "26644f50-c559-4b73-a8b3-f1ba439f4a44",
   "metadata": {},
   "outputs": [
    {
     "name": "stdout",
     "output_type": "stream",
     "text": [
      "(11, 'Дарья', 70, 78)\n",
      "(12, 'Борис', 78, 84)\n",
      "(21, 'Елена', 84, 90)\n",
      "(22, 'Ксения', 90, 96)\n",
      "(31, 'Вероника', 96, 100)\n",
      "(32, 'Григорий', 96, 100)\n",
      "(33, 'Анна', 100, 104)\n",
      "(23, 'Леонид', 104, 120)\n",
      "(24, 'Марина', 104, 120)\n",
      "(25, 'Иван', 120, None)\n"
     ]
    }
   ],
   "source": [
    "cursor.execute('''\n",
    "    SELECT id, name, salary, \n",
    "        LAST_VALUE(salary) OVER w AS next_salary\n",
    "    FROM employees\n",
    "    WINDOW w AS (ORDER BY salary\n",
    "                GROUPS BETWEEN 1 following AND 1 following)\n",
    "    ORDER BY salary, id\n",
    "''')\n",
    "print(*cursor.fetchall(), sep='\\n')"
   ]
  },
  {
   "cell_type": "code",
   "execution_count": null,
   "id": "c1fec948-59a6-497e-8dc9-63ee4a3a0730",
   "metadata": {},
   "outputs": [],
   "source": []
  }
 ],
 "metadata": {
  "kernelspec": {
   "display_name": "Python 3 (ipykernel)",
   "language": "python",
   "name": "python3"
  },
  "language_info": {
   "codemirror_mode": {
    "name": "ipython",
    "version": 3
   },
   "file_extension": ".py",
   "mimetype": "text/x-python",
   "name": "python",
   "nbconvert_exporter": "python",
   "pygments_lexer": "ipython3",
   "version": "3.12.3"
  }
 },
 "nbformat": 4,
 "nbformat_minor": 5
}
