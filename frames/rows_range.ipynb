{
 "cells": [
  {
   "cell_type": "code",
   "execution_count": 1,
   "id": "737638c1-250a-4100-8730-fc9c4736f2bb",
   "metadata": {},
   "outputs": [],
   "source": [
    "import sqlite3"
   ]
  },
  {
   "cell_type": "code",
   "execution_count": 3,
   "id": "49400859-f83f-4d15-a04b-daacb1d7110e",
   "metadata": {},
   "outputs": [],
   "source": [
    "connection = sqlite3.connect('window.db')\n",
    "cursor = connection.cursor()"
   ]
  },
  {
   "cell_type": "code",
   "execution_count": 4,
   "id": "eee328f5-3498-4554-bdfb-9198c98de483",
   "metadata": {},
   "outputs": [
    {
     "name": "stdout",
     "output_type": "stream",
     "text": [
      "('Дарья', 70, 2)\n",
      "('Борис', 78, 3)\n",
      "('Елена', 84, 3)\n",
      "('Ксения', 90, 5)\n",
      "('Вероника', 96, 6)\n",
      "('Григорий', 96, 6)\n",
      "('Анна', 100, 6)\n",
      "('Леонид', 104, 5)\n",
      "('Марина', 104, 5)\n",
      "('Иван', 120, 1)\n"
     ]
    }
   ],
   "source": [
    "cursor.execute('''\n",
    "    SELECT name, salary, \n",
    "    COUNT(*) OVER w AS cnt\n",
    "    FROM employees\n",
    "    WINDOW w AS (\n",
    "        ORDER BY salary\n",
    "        RANGE BETWEEN 10 preceding AND 10 following\n",
    "    )\n",
    "    ORDER BY salary, id\n",
    "''')\n",
    "print(*cursor.fetchall(), sep='\\n')"
   ]
  },
  {
   "cell_type": "code",
   "execution_count": 6,
   "id": "874a8e3c-9677-44e4-9012-c068c0e86537",
   "metadata": {},
   "outputs": [
    {
     "name": "stdout",
     "output_type": "stream",
     "text": [
      "(11, 'Дарья', 70, 2)\n",
      "(12, 'Борис', 78, 2)\n",
      "(21, 'Елена', 84, 2)\n",
      "(22, 'Ксения', 90, 4)\n",
      "(31, 'Вероника', 96, 5)\n",
      "(32, 'Григорий', 96, 5)\n",
      "(33, 'Анна', 100, 3)\n",
      "(23, 'Леонид', 104, 2)\n",
      "(24, 'Марина', 104, 2)\n",
      "(25, 'Иван', 120, 1)\n"
     ]
    }
   ],
   "source": [
    "# Для каждого человека мы хотим посчитать количество сотрудников, \n",
    "# которые получают такую же или большую зарплату, но не более чем +10 тыс. ₽ (p10_cnt)\n",
    "cursor.execute('''\n",
    "    SELECT id, name, salary,\n",
    "        COUNT(*) OVER w AS p10_cnt\n",
    "    FROM employees\n",
    "    WINDOW w AS (\n",
    "        ORDER BY salary\n",
    "        RANGE BETWEEN current row AND 10 following\n",
    "    )\n",
    "    ORDER BY salary, id\n",
    "''')\n",
    "print(*cursor.fetchall(), sep='\\n')"
   ]
  },
  {
   "cell_type": "code",
   "execution_count": 10,
   "id": "c52f296c-22e2-4c94-b965-389846fac7b8",
   "metadata": {},
   "outputs": [
    {
     "name": "stdout",
     "output_type": "stream",
     "text": [
      "(11, 'Дарья', 70, None)\n",
      "(12, 'Борис', 78, None)\n",
      "(21, 'Елена', 84, 70)\n",
      "(22, 'Ксения', 90, 78)\n",
      "(31, 'Вероника', 96, 84)\n",
      "(32, 'Григорий', 96, 84)\n",
      "(33, 'Анна', 100, 90)\n",
      "(23, 'Леонид', 104, 90)\n",
      "(24, 'Марина', 104, 90)\n",
      "(25, 'Иван', 120, 104)\n"
     ]
    }
   ],
   "source": [
    "# Для каждого человека мы хотим определить максимальную зарплату среди тех, \n",
    "# у кого зарплата на 10–30 тыс. ₽ меньше чем у него:\n",
    "cursor.execute('''\n",
    "    SELECT id, name, salary,\n",
    "        MAX(salary) OVER w AS lower_sal\n",
    "    FROM employees\n",
    "    WINDOW w AS (\n",
    "        ORDER BY salary\n",
    "        RANGE BETWEEN 30 preceding AND 10 preceding\n",
    "    )\n",
    "    ORDER BY salary, id\n",
    "''')\n",
    "print(*cursor.fetchall(), sep='\\n')"
   ]
  },
  {
   "cell_type": "code",
   "execution_count": null,
   "id": "7d045c32-14e6-4d29-86a5-321c2f597ffc",
   "metadata": {},
   "outputs": [],
   "source": [
    "# типы фреймов:\n",
    "    # строковые (rows) оперируют отдельными записями;\n",
    "    # групповые (groups) оперируют группами записей с одинаковым набором значений столбцов из order by;\n",
    "    # диапазонные (range) оперируют группами записей, у которых значение столбца из order by попадает в указанный диапазон."
   ]
  }
 ],
 "metadata": {
  "kernelspec": {
   "display_name": "Python 3 (ipykernel)",
   "language": "python",
   "name": "python3"
  },
  "language_info": {
   "codemirror_mode": {
    "name": "ipython",
    "version": 3
   },
   "file_extension": ".py",
   "mimetype": "text/x-python",
   "name": "python",
   "nbconvert_exporter": "python",
   "pygments_lexer": "ipython3",
   "version": "3.12.3"
  }
 },
 "nbformat": 4,
 "nbformat_minor": 5
}
