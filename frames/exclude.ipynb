{
 "cells": [
  {
   "cell_type": "code",
   "execution_count": 37,
   "id": "7756d8f3-3cd6-4d10-a7db-6f81ffa5a515",
   "metadata": {},
   "outputs": [],
   "source": [
    "import sqlite3\n",
    "\n",
    "connection = sqlite3.connect('../tables_db/window.db')\n",
    "cursor = connection.cursor()"
   ]
  },
  {
   "cell_type": "code",
   "execution_count": 12,
   "id": "391e82e8-4a30-41e6-9eda-a931c64bad60",
   "metadata": {},
   "outputs": [],
   "source": [
    "# EXCLUDE:\n",
    "#     EXCLUDE NO OTHERS. Ничего не исключать. Вариант по умолчанию: если явно не указать exclude, сработает именно он.\n",
    "#     EXCLUDE CURRENT ROW. Исключить текущую запись (как мы сделали на предыдущем шаге с сотрудником).\n",
    "#     EXCLUDE GROUP. Исключить текущую запись и все равные ей (по значению столбцов из order by).\n",
    "#     EXCLUDE TIES. Оставить текущую запись, но исключить равные ей."
   ]
  },
  {
   "cell_type": "code",
   "execution_count": 11,
   "id": "b33c416c-2071-464f-9782-600685566658",
   "metadata": {},
   "outputs": [
    {
     "name": "stdout",
     "output_type": "stream",
     "text": [
      "('Дарья', 70, '96.89')\n",
      "('Борис', 78, '96.00')\n",
      "('Елена', 84, '95.33')\n",
      "('Ксения', 90, '94.67')\n",
      "('Вероника', 96, '94.00')\n",
      "('Григорий', 96, '94.00')\n",
      "('Анна', 100, '93.56')\n",
      "('Леонид', 104, '93.11')\n",
      "('Марина', 104, '93.11')\n",
      "('Иван', 120, '91.33')\n"
     ]
    }
   ],
   "source": [
    "# как изменится средняя зарплата по организации, если уволить того или иного сотрудника.\n",
    "\n",
    "cursor.execute('''\n",
    "    SELECT name, salary, \n",
    "        PRINTF('%.2f', ROUND(AVG(salary) OVER w, 2)) AS avg\n",
    "    FROM employees\n",
    "    WINDOW w AS (\n",
    "        ROWS BETWEEN unbounded preceding AND unbounded following\n",
    "        EXCLUDE current row\n",
    "    )\n",
    "    ORDER BY salary, id\n",
    "    \n",
    "''')\n",
    "print(*[x for x in cursor.fetchall()], sep='\\n')"
   ]
  },
  {
   "cell_type": "code",
   "execution_count": 23,
   "id": "a74f1988-849c-4bde-8b45-5e826661ccce",
   "metadata": {},
   "outputs": [
    {
     "name": "stdout",
     "output_type": "stream",
     "text": [
      "('Дарья', 70, 96.89)\n",
      "('Борис', 78, 96.0)\n",
      "('Елена', 84, 95.33)\n",
      "('Ксения', 90, 94.67)\n",
      "('Вероника', 96, 93.75)\n",
      "('Григорий', 96, 93.75)\n",
      "('Анна', 100, 93.56)\n",
      "('Леонид', 104, 91.75)\n",
      "('Марина', 104, 91.75)\n",
      "('Иван', 120, 91.33)\n"
     ]
    }
   ],
   "source": [
    "# Как изменится средняя зарплата по организации, если уволить конкретного \n",
    "# сотрудника и всех, кто получает столько же, сколько и он?\n",
    "\n",
    "cursor.execute('''\n",
    "    SELECT name, salary, \n",
    "        ROUND(AVG(salary) OVER w, 2) AS avg\n",
    "    FROM employees\n",
    "    WINDOW w AS (\n",
    "        ORDER BY salary\n",
    "        ROWS BETWEEN unbounded preceding AND unbounded following\n",
    "        EXCLUDE GROUP\n",
    "    )\n",
    "    ORDER BY salary, id\n",
    "    \n",
    "''')\n",
    "print(*[x for x in cursor.fetchall()], sep='\\n')"
   ]
  },
  {
   "cell_type": "code",
   "execution_count": 42,
   "id": "a2de2c87-e21a-4a5f-87dc-78105d04742e",
   "metadata": {},
   "outputs": [
    {
     "name": "stdout",
     "output_type": "stream",
     "text": [
      "(11, 'Дарья', 70, 84.0)\n",
      "(12, 'Борис', 78, 92.0)\n",
      "(21, 'Елена', 84, 98.0)\n",
      "(22, 'Ксения', 90, 100.0)\n",
      "(31, 'Вероника', 96, 101.0)\n",
      "(32, 'Григорий', 96, 101.0)\n",
      "(33, 'Анна', 100, 109.0)\n",
      "(23, 'Леонид', 104, 112.0)\n",
      "(24, 'Марина', 104, 112.0)\n",
      "(25, 'Иван', 120, None)\n"
     ]
    }
   ],
   "source": [
    "# Есть таблица сотрудников employees. Предположим, для каждого человека \n",
    "# мы хотим посчитать среднюю зарплату сотрудников, которые получают \n",
    "# столько же или больше, чем он — но не более чем +20 тыс. ₽ (p20_sal). \n",
    "# При этом зарплату самого сотрудника учитывать не следует\n",
    "cursor.execute('''\n",
    "    SELECT id, name, salary,\n",
    "    ROUND(AVG(salary) OVER w) AS p20_sal\n",
    "    FROM employees\n",
    "    WINDOW w AS (\n",
    "        ORDER BY salary\n",
    "        RANGE BETWEEN current row AND 20 following \n",
    "        EXCLUDE current row\n",
    "    )\n",
    "    ORDER BY salary, id\n",
    "    \n",
    "''')\n",
    "print(*[x for x in cursor.fetchall()], sep='\\n')"
   ]
  },
  {
   "cell_type": "code",
   "execution_count": null,
   "id": "8e9f9bc1-10b7-40f9-8ddc-768de687968e",
   "metadata": {},
   "outputs": [],
   "source": []
  }
 ],
 "metadata": {
  "kernelspec": {
   "display_name": "Python 3 (ipykernel)",
   "language": "python",
   "name": "python3"
  },
  "language_info": {
   "codemirror_mode": {
    "name": "ipython",
    "version": 3
   },
   "file_extension": ".py",
   "mimetype": "text/x-python",
   "name": "python",
   "nbconvert_exporter": "python",
   "pygments_lexer": "ipython3",
   "version": "3.12.3"
  }
 },
 "nbformat": 4,
 "nbformat_minor": 5
}
